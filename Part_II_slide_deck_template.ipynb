{
 "cells": [
  {
   "cell_type": "markdown",
   "metadata": {
    "slideshow": {
     "slide_type": "slide"
    }
   },
   "source": [
    "# Part II - (ProsperLoanData)\n",
    "## by (Raghad Altamrah)"
   ]
  },
  {
   "cell_type": "markdown",
   "metadata": {
    "slideshow": {
     "slide_type": "slide"
    }
   },
   "source": [
    "\n",
    "## Dataset Overview\n",
    "\n",
    "**Loan Data from Prosper: This data set contains 113,937 loans with 81 variables on each loan,\n",
    "ncluding loan amount, borrower rate (or interest rate), current loan status, borrower income, and many others**\n",
    "\n",
    "**i will invstigate in specifec column which is**\n",
    "\n",
    "**LoanOriginalAmount BorrowerAPR StatedMonthlyIncome TermProsperRating (Alpha) EmploymentStatus IncomeRange LoanStatus IncomeVerifiable**\n",
    "\n",
    "**but i will slide the most intersting ones on it**\n",
    "\n",
    "\n"
   ]
  },
  {
   "cell_type": "markdown",
   "metadata": {
    "slideshow": {
     "slide_type": "slide"
    }
   },
   "source": [
    "## Investigation Overview\n",
    "\n",
    "- **in this slide show i will show the most count of  LoanStatus**\n",
    "\n",
    "- **preform the distrubtion of the LoanOriginalAmount and what the transformtion that i made on it**\n",
    "\n",
    "- **also knowing the StatedMonthlyIncome distrubtion and why to remove spicefc value form the varible**\n",
    "\n",
    "- **and made a count plot for ProsperRating (Alpha) and order it from lowest to the highest to know the most and lowest**\n",
    "\n",
    "- **see if the Term change along the ProsperRating (Alpha)**\n",
    "\n",
    "- **what is the most of the EmploymentStatus that have IncomeVerifiable or not**\n",
    "\n",
    "- **the most of EmploymentStatus that have  ProsperRating (Alpha)**\n"
   ]
  },
  {
   "cell_type": "code",
   "execution_count": 1,
   "metadata": {
    "slideshow": {
     "slide_type": "skip"
    }
   },
   "outputs": [],
   "source": [
    "# import all packages and set plots to be embedded inline\n",
    "import numpy as np\n",
    "import pandas as pd\n",
    "import matplotlib.pyplot as plt\n",
    "import seaborn as sb\n",
    "\n",
    "%matplotlib inline\n",
    "\n",
    "# suppress warnings from final output\n",
    "import warnings\n",
    "warnings.simplefilter(\"ignore\")"
   ]
  },
  {
   "cell_type": "code",
   "execution_count": 2,
   "metadata": {
    "slideshow": {
     "slide_type": "skip"
    }
   },
   "outputs": [
    {
     "data": {
      "text/plain": [
       "(113937, 81)"
      ]
     },
     "execution_count": 2,
     "metadata": {},
     "output_type": "execute_result"
    }
   ],
   "source": [
    "# load in the dataset into a pandas dataframe\n",
    "df=pd.read_csv('prosperLoanData.csv')\n",
    "df.shape"
   ]
  },
  {
   "cell_type": "code",
   "execution_count": 3,
   "metadata": {
    "slideshow": {
     "slide_type": "skip"
    }
   },
   "outputs": [
    {
     "data": {
      "text/html": [
       "<div>\n",
       "<style scoped>\n",
       "    .dataframe tbody tr th:only-of-type {\n",
       "        vertical-align: middle;\n",
       "    }\n",
       "\n",
       "    .dataframe tbody tr th {\n",
       "        vertical-align: top;\n",
       "    }\n",
       "\n",
       "    .dataframe thead th {\n",
       "        text-align: right;\n",
       "    }\n",
       "</style>\n",
       "<table border=\"1\" class=\"dataframe\">\n",
       "  <thead>\n",
       "    <tr style=\"text-align: right;\">\n",
       "      <th></th>\n",
       "      <th>LoanOriginalAmount</th>\n",
       "      <th>BorrowerAPR</th>\n",
       "      <th>StatedMonthlyIncome</th>\n",
       "      <th>Term</th>\n",
       "      <th>ProsperRating (Alpha)</th>\n",
       "      <th>EmploymentStatus</th>\n",
       "      <th>LoanStatus</th>\n",
       "      <th>EmploymentStatusDuration</th>\n",
       "      <th>IncomeRange</th>\n",
       "      <th>IncomeVerifiable</th>\n",
       "    </tr>\n",
       "  </thead>\n",
       "  <tbody>\n",
       "    <tr>\n",
       "      <th>0</th>\n",
       "      <td>9425</td>\n",
       "      <td>0.16516</td>\n",
       "      <td>3083.333333</td>\n",
       "      <td>36</td>\n",
       "      <td>NaN</td>\n",
       "      <td>Self-employed</td>\n",
       "      <td>Completed</td>\n",
       "      <td>2.0</td>\n",
       "      <td>$25,000-49,999</td>\n",
       "      <td>True</td>\n",
       "    </tr>\n",
       "    <tr>\n",
       "      <th>1</th>\n",
       "      <td>10000</td>\n",
       "      <td>0.12016</td>\n",
       "      <td>6125.000000</td>\n",
       "      <td>36</td>\n",
       "      <td>A</td>\n",
       "      <td>Employed</td>\n",
       "      <td>Current</td>\n",
       "      <td>44.0</td>\n",
       "      <td>$50,000-74,999</td>\n",
       "      <td>True</td>\n",
       "    </tr>\n",
       "    <tr>\n",
       "      <th>2</th>\n",
       "      <td>3001</td>\n",
       "      <td>0.28269</td>\n",
       "      <td>2083.333333</td>\n",
       "      <td>36</td>\n",
       "      <td>NaN</td>\n",
       "      <td>Not available</td>\n",
       "      <td>Completed</td>\n",
       "      <td>NaN</td>\n",
       "      <td>Not displayed</td>\n",
       "      <td>True</td>\n",
       "    </tr>\n",
       "    <tr>\n",
       "      <th>3</th>\n",
       "      <td>10000</td>\n",
       "      <td>0.12528</td>\n",
       "      <td>2875.000000</td>\n",
       "      <td>36</td>\n",
       "      <td>A</td>\n",
       "      <td>Employed</td>\n",
       "      <td>Current</td>\n",
       "      <td>113.0</td>\n",
       "      <td>$25,000-49,999</td>\n",
       "      <td>True</td>\n",
       "    </tr>\n",
       "    <tr>\n",
       "      <th>4</th>\n",
       "      <td>15000</td>\n",
       "      <td>0.24614</td>\n",
       "      <td>9583.333333</td>\n",
       "      <td>36</td>\n",
       "      <td>D</td>\n",
       "      <td>Employed</td>\n",
       "      <td>Current</td>\n",
       "      <td>44.0</td>\n",
       "      <td>$100,000+</td>\n",
       "      <td>True</td>\n",
       "    </tr>\n",
       "  </tbody>\n",
       "</table>\n",
       "</div>"
      ],
      "text/plain": [
       "   LoanOriginalAmount  BorrowerAPR  StatedMonthlyIncome  Term  \\\n",
       "0                9425      0.16516          3083.333333    36   \n",
       "1               10000      0.12016          6125.000000    36   \n",
       "2                3001      0.28269          2083.333333    36   \n",
       "3               10000      0.12528          2875.000000    36   \n",
       "4               15000      0.24614          9583.333333    36   \n",
       "\n",
       "  ProsperRating (Alpha) EmploymentStatus LoanStatus  EmploymentStatusDuration  \\\n",
       "0                   NaN    Self-employed  Completed                       2.0   \n",
       "1                     A         Employed    Current                      44.0   \n",
       "2                   NaN    Not available  Completed                       NaN   \n",
       "3                     A         Employed    Current                     113.0   \n",
       "4                     D         Employed    Current                      44.0   \n",
       "\n",
       "      IncomeRange  IncomeVerifiable  \n",
       "0  $25,000-49,999              True  \n",
       "1  $50,000-74,999              True  \n",
       "2   Not displayed              True  \n",
       "3  $25,000-49,999              True  \n",
       "4       $100,000+              True  "
      ]
     },
     "execution_count": 3,
     "metadata": {},
     "output_type": "execute_result"
    }
   ],
   "source": [
    "#Select the column that i want to use\n",
    "my_col=df[['LoanOriginalAmount', 'BorrowerAPR', 'StatedMonthlyIncome', 'Term','ProsperRating (Alpha)','EmploymentStatus','LoanStatus','EmploymentStatusDuration','IncomeRange','IncomeVerifiable']]\n",
    "my_col.head()"
   ]
  },
  {
   "cell_type": "code",
   "execution_count": 4,
   "metadata": {
    "slideshow": {
     "slide_type": "skip"
    }
   },
   "outputs": [],
   "source": [
    "# Remove loans with missing borrower APR information\n",
    "my_col = my_col[~my_col.BorrowerAPR.isna()]"
   ]
  },
  {
   "cell_type": "markdown",
   "metadata": {
    "slideshow": {
     "slide_type": "notes"
    }
   },
   "source": [
    "> Note that the above cells have been set as \"Skip\"-type slides. That means\n",
    "that when the notebook is rendered as http slides, those cells won't show up."
   ]
  },
  {
   "cell_type": "markdown",
   "metadata": {
    "slideshow": {
     "slide_type": "slide"
    }
   },
   "source": [
    "## (Visualization 1)\n",
    "\n",
    " **the count of Loan Status**"
   ]
  },
  {
   "cell_type": "code",
   "execution_count": 5,
   "metadata": {
    "slideshow": {
     "slide_type": "subslide"
    }
   },
   "outputs": [
    {
     "data": {
      "image/png": "[encoded data removed]",
      "text/plain": [
       "<Figure size 720x576 with 1 Axes>"
      ]
     },
     "metadata": {
      "needs_background": "light"
     },
     "output_type": "display_data"
    }
   ],
   "source": [
    "plt.figure(figsize=[10, 8])\n",
    "base_color=sb.color_palette()[0]\n",
    "LoanStatus_order=df[\"LoanStatus\"].value_counts().index\n",
    "sb.countplot(data=df , y='LoanStatus',color=base_color,order=LoanStatus_order)\n",
    "plt.ylabel('Loan Status')\n",
    "plt.title(' the count of Loan Status')\n",
    "plt.show()"
   ]
  },
  {
   "cell_type": "markdown",
   "metadata": {
    "slideshow": {
     "slide_type": "subslide"
    }
   },
   "source": [
    "**i made this horizontal countplot to see the distrubtion of the olan stasues and oreder it from the max to the min number\n",
    "so from the graph it's seems like we have for catgories is the most in the loan states which is\tChargedoff, Completed, Current and the  the others loan states  is less than 10000** "
   ]
  },
  {
   "cell_type": "markdown",
   "metadata": {
    "collapsed": true,
    "slideshow": {
     "slide_type": "slide"
    }
   },
   "source": [
    "## (Visualization 2)\n",
    "\n",
    "**Distrubtion of Loan Original Amount**"
   ]
  },
  {
   "cell_type": "code",
   "execution_count": 6,
   "metadata": {
    "slideshow": {
     "slide_type": "subslide"
    }
   },
   "outputs": [
    {
     "data": {
      "image/png": "[encoded data removed]",
      "text/plain": [
       "<Figure size 432x288 with 1 Axes>"
      ]
     },
     "metadata": {
      "needs_background": "light"
     },
     "output_type": "display_data"
    }
   ],
   "source": [
    "## let take a look about the\n",
    "bins = np.arange(1000,my_col['LoanOriginalAmount'].max()+5000, 5000)\n",
    "plt.hist(data=my_col,x=\"LoanOriginalAmount\", bins = bins)\n",
    "plt.xlabel('Loan Original Amount')\n",
    "plt.title('Distrubtion of Loan Original Amount')\n",
    "plt.xlim((500,30000));\n",
    "plt.show()\n"
   ]
  },
  {
   "cell_type": "markdown",
   "metadata": {
    "slideshow": {
     "slide_type": "subslide"
    }
   },
   "source": [
    "**the graph is little bit skweed so i will do a log transformtion to see the result**"
   ]
  },
  {
   "cell_type": "code",
   "execution_count": 7,
   "metadata": {
    "slideshow": {
     "slide_type": "fragment"
    }
   },
   "outputs": [
    {
     "data": {
      "image/png": "[encoded data removed]",
      "text/plain": [
       "<Figure size 432x288 with 1 Axes>"
      ]
     },
     "metadata": {
      "needs_background": "light"
     },
     "output_type": "display_data"
    }
   ],
   "source": [
    "# Axis transformation\n",
    "\n",
    "# Get the ticks for bins between [0 - maximum Loan amount]\n",
    "bins = 10** np.arange(3, np.log10(my_col.LoanOriginalAmount.max())+0.135, 0.135)\n",
    "\n",
    "# Generate the x-ticks you want to apply\n",
    "ticks = [1000,3000, 10000, 30000]\n",
    "# Convert ticks into string values, to be displaye dlong the x-axis\n",
    "labels = ['{}'.format(v) for v in ticks]\n",
    "# Plot the histogram\n",
    "plt.hist(data=my_col, x='LoanOriginalAmount', bins=bins);\n",
    "plt.xscale('log')\n",
    "plt.xlabel('Loan Original Amount')\n",
    "plt.title('count plot of LoanStaus');\n",
    "\n",
    "# Apply x-ticks\n",
    "plt.xticks(ticks, labels);"
   ]
  },
  {
   "cell_type": "markdown",
   "metadata": {
    "slideshow": {
     "slide_type": "fragment"
    }
   },
   "source": [
    "**first the graph looks like it's skweed so we well do a log transformtion to see , after the log transformation we see that the data have binmile model sence it's have tow peak the first one on 3000-4000 and the other one on 10000-20000** ."
   ]
  },
  {
   "cell_type": "markdown",
   "metadata": {
    "slideshow": {
     "slide_type": "slide"
    }
   },
   "source": [
    "## (Visualization 3)\n",
    "\n",
    "**Stated Monthly Income Distrubtion**"
   ]
  },
  {
   "cell_type": "code",
   "execution_count": 8,
   "metadata": {
    "slideshow": {
     "slide_type": "subslide"
    }
   },
   "outputs": [
    {
     "data": {
      "image/png": "[encoded data removed]",
      "text/plain": [
       "<Figure size 432x288 with 1 Axes>"
      ]
     },
     "metadata": {
      "needs_background": "light"
     },
     "output_type": "display_data"
    }
   ],
   "source": [
    "bins = np.arange(0,50000,500)\n",
    "plt.hist(data=my_col,x='StatedMonthlyIncome',bins=bins)\n",
    "plt.xlabel('StatedMonthlyIncome')\n",
    "plt.title('Stated Monthly Income Distrubtion');\n",
    "\n",
    "plt.show() "
   ]
  },
  {
   "cell_type": "markdown",
   "metadata": {
    "slideshow": {
     "slide_type": "subslide"
    }
   },
   "source": [
    "**the StatedMonthlyIncome is have long trile skweed to right which mean the most of the income is less than 50000**"
   ]
  },
  {
   "cell_type": "markdown",
   "metadata": {
    "slideshow": {
     "slide_type": "fragment"
    }
   },
   "source": [
    "- **there is less than or equal to 0.31 percent from broweer take  less than 30000 monthly income**\n",
    "- **sence the percent is less than 1% i will consider it as outlier and i will deleat it cause it will not effect**"
   ]
  },
  {
   "cell_type": "markdown",
   "metadata": {
    "slideshow": {
     "slide_type": "slide"
    }
   },
   "source": [
    "## (Visualization 4)\n",
    "\n",
    "**ProsperRating (Alpha) count**"
   ]
  },
  {
   "cell_type": "code",
   "execution_count": 10,
   "metadata": {
    "slideshow": {
     "slide_type": "skip"
    }
   },
   "outputs": [],
   "source": [
    "order=['HR','E','D','C','B','A','AA']\n",
    "rate_order =pd.api.types.CategoricalDtype(ordered=True,categories=order)\n",
    "my_col['ProsperRating (Alpha)'] = my_col['ProsperRating (Alpha)'].astype(rate_order)"
   ]
  },
  {
   "cell_type": "code",
   "execution_count": 11,
   "metadata": {
    "slideshow": {
     "slide_type": "subslide"
    }
   },
   "outputs": [
    {
     "data": {
      "image/png": "[encoded data removed]",
      "text/plain": [
       "<Figure size 432x288 with 1 Axes>"
      ]
     },
     "metadata": {
      "needs_background": "light"
     },
     "output_type": "display_data"
    }
   ],
   "source": [
    "default_color = sb.color_palette()[6]\n",
    "sb.countplot(data = my_col, x = 'ProsperRating (Alpha)',order=order, color = default_color);\n",
    "plt.title('ProsperRating (Alpha) count');\n"
   ]
  },
  {
   "cell_type": "markdown",
   "metadata": {
    "slideshow": {
     "slide_type": "fragment"
    }
   },
   "source": [
    "**the most prosper Rating is from C to A and this have almost normal distrubtion**"
   ]
  },
  {
   "cell_type": "markdown",
   "metadata": {
    "slideshow": {
     "slide_type": "slide"
    }
   },
   "source": [
    "## (Visualization 5)  have 3 Bivariate Exploration\n",
    "- term  and ProsperRating (Alpha) \n",
    "- EmploymentStatu and IncomeVerifiable\n",
    "- ProsperRating (Alpha) and EmploymentStatus"
   ]
  },
  {
   "cell_type": "code",
   "execution_count": 12,
   "metadata": {
    "slideshow": {
     "slide_type": "skip"
    }
   },
   "outputs": [],
   "source": [
    "# you can add recomondation it's good\n",
    "num_vars = ['LoanOriginalAmount', 'BorrowerAPR', 'StatedMonthlyIncome']\n",
    "cat_vars = ['Term', 'ProsperRating (Alpha)', 'EmploymentStatus','IncomeRange','LoanStatus','IncomeVerifiable']"
   ]
  },
  {
   "cell_type": "code",
   "execution_count": 13,
   "metadata": {
    "slideshow": {
     "slide_type": "subslide"
    }
   },
   "outputs": [
    {
     "data": {
      "image/png": "[encoded data removed]",
      "text/plain": [
       "<Figure size 720x1440 with 2 Axes>"
      ]
     },
     "metadata": {
      "needs_background": "light"
     },
     "output_type": "display_data"
    }
   ],
   "source": [
    "plt.figure(figsize = [10, 20])\n",
    "Rotation=60\n",
    "ncolno=5\n",
    "# subplot 1: Prosper rating vs term\n",
    "ax1= plt.subplot(5, 1, 1)\n",
    "sb.countplot(data = my_col, x = 'ProsperRating (Alpha)', hue = 'Term', palette = 'Blues')\n",
    "ax1.legend(loc = 1, ncol = ncolno) ;\n",
    "plt.xticks(rotation=Rotation);\n",
    "# subplot 2: employment status vs. term\n",
    "ax = plt.subplot(5, 1, 2)\n",
    "sb.countplot(data = my_col, x = 'EmploymentStatus', hue = 'IncomeVerifiable', palette = 'Reds')\n",
    "plt.xticks(rotation=10)\n",
    "ax1.legend(loc = 1, ncol = ncolno) ;\n"
   ]
  },
  {
   "cell_type": "code",
   "execution_count": 14,
   "metadata": {
    "slideshow": {
     "slide_type": "subslide"
    }
   },
   "outputs": [
    {
     "data": {
      "image/png": "[encoded data removed]",
      "text/plain": [
       "<Figure size 720x360 with 1 Axes>"
      ]
     },
     "metadata": {
      "needs_background": "light"
     },
     "output_type": "display_data"
    }
   ],
   "source": [
    "plt.figure(figsize = [10, 5])\n",
    "# subplot 3: Prosper rating vs. employment status, use different color palette\n",
    "sb.countplot(data = my_col, x = 'EmploymentStatus', hue = 'ProsperRating (Alpha)', palette = 'Greens')\n",
    "plt.xticks(rotation=40);\n",
    "ax1.legend(loc = 1, ncol = ncolno) ;"
   ]
  },
  {
   "cell_type": "markdown",
   "metadata": {
    "slideshow": {
     "slide_type": "subslide"
    }
   },
   "source": [
    "- the highest term in all ProsperRating (Alpha) is 36\n",
    "- the most of browwer they don't Verifiable thier Income is self-employed\n",
    "-  the Employed is the higest Rating "
   ]
  },
  {
   "cell_type": "markdown",
   "metadata": {
    "slideshow": {
     "slide_type": "notes"
    }
   },
   "source": [
    ">**Generate Slideshow**: Once you're ready to generate your slideshow, use the `jupyter nbconvert` command to generate the HTML slide show. . From the terminal or command line, use the following expression."
   ]
  },
  {
   "cell_type": "code",
   "execution_count": 16,
   "metadata": {
    "slideshow": {
     "slide_type": "skip"
    }
   },
   "outputs": [
    {
     "name": "stderr",
     "output_type": "stream",
     "text": [
      "[NbConvertApp] Converting notebook Part_II_slide_deck_template.ipynb to slides\n",
      "[NbConvertApp] Writing 717903 bytes to Part_II_slide_deck_template.slides.html\n",
      "[NbConvertApp] Redirecting reveal.js requests to https://cdnjs.cloudflare.com/ajax/libs/reveal.js/3.5.0\n",
      "Traceback (most recent call last):\n",
      "  File \"C:\\Users\\raghad\\anaconda3\\Scripts\\jupyter-nbconvert-script.py\", line 10, in <module>\n",
      "    sys.exit(main())\n",
      "  File \"C:\\Users\\raghad\\anaconda3\\lib\\site-packages\\jupyter_core\\application.py\", line 264, in launch_instance\n",
      "    return super(JupyterApp, cls).launch_instance(argv=argv, **kwargs)\n",
      "  File \"C:\\Users\\raghad\\anaconda3\\lib\\site-packages\\traitlets\\config\\application.py\", line 846, in launch_instance\n",
      "    app.start()\n",
      "  File \"C:\\Users\\raghad\\anaconda3\\lib\\site-packages\\nbconvert\\nbconvertapp.py\", line 369, in start\n",
      "    self.convert_notebooks()\n",
      "  File \"C:\\Users\\raghad\\anaconda3\\lib\\site-packages\\nbconvert\\nbconvertapp.py\", line 541, in convert_notebooks\n",
      "    self.convert_single_notebook(notebook_filename)\n",
      "  File \"C:\\Users\\raghad\\anaconda3\\lib\\site-packages\\nbconvert\\nbconvertapp.py\", line 508, in convert_single_notebook\n",
      "    self.postprocess_single_notebook(write_results)\n",
      "  File \"C:\\Users\\raghad\\anaconda3\\lib\\site-packages\\nbconvert\\nbconvertapp.py\", line 480, in postprocess_single_notebook\n",
      "    self.postprocessor(write_results)\n",
      "  File \"C:\\Users\\raghad\\anaconda3\\lib\\site-packages\\nbconvert\\postprocessors\\base.py\", line 28, in __call__\n",
      "    self.postprocess(input)\n",
      "  File \"C:\\Users\\raghad\\anaconda3\\lib\\site-packages\\nbconvert\\postprocessors\\serve.py\", line 90, in postprocess\n",
      "    http_server.listen(self.port, address=self.ip)\n",
      "  File \"C:\\Users\\raghad\\anaconda3\\lib\\site-packages\\tornado\\tcpserver.py\", line 151, in listen\n",
      "    sockets = bind_sockets(port, address=address)\n",
      "  File \"C:\\Users\\raghad\\anaconda3\\lib\\site-packages\\tornado\\netutil.py\", line 161, in bind_sockets\n",
      "    sock.bind(sockaddr)\n",
      "OSError: [WinError 10048] Only one usage of each socket address (protocol/network address/port) is normally permitted\n"
     ]
    }
   ],
   "source": [
    "!jupyter nbconvert Part_II_slide_deck_template.ipynb --to slides --post serve --no-input --no-prompt"
   ]
  },
  {
   "cell_type": "markdown",
   "metadata": {
    "slideshow": {
     "slide_type": "notes"
    }
   },
   "source": [
    "> This should open a tab in your web browser where you can scroll through your presentation. Sub-slides can be accessed by pressing 'down' when viewing its parent slide. Make sure you remove all of the quote-formatted guide notes like this one before you finish your presentation! At last, you can stop the Kernel. "
   ]
  },
  {
   "cell_type": "code",
   "execution_count": null,
   "metadata": {
    "slideshow": {
     "slide_type": "notes"
    }
   },
   "outputs": [],
   "source": []
  }
 ],
 "metadata": {
  "celltoolbar": "Slideshow",
  "kernelspec": {
   "display_name": "Python 3 (ipykernel)",
   "language": "python",
   "name": "python3"
  },
  "language_info": {
   "codemirror_mode": {
    "name": "ipython",
    "version": 3
   },
   "file_extension": ".py",
   "mimetype": "text/x-python",
   "name": "python",
   "nbconvert_exporter": "python",
   "pygments_lexer": "ipython3",
   "version": "3.9.12"
  }
 },
 "nbformat": 4,
 "nbformat_minor": 2
}
